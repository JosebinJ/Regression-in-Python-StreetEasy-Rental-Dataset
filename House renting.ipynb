{
 "cells": [
  {
   "cell_type": "code",
   "execution_count": 1,
   "metadata": {},
   "outputs": [],
   "source": [
    "import numpy as np\n",
    "import pandas as pd\n",
    "import matplotlib.pyplot as plt\n",
    "import seaborn as sns\n",
    "import statsmodels.api as sm\n",
    "from sklearn.linear_model import LinearRegression\n",
    "%matplotlib inline"
   ]
  },
  {
   "cell_type": "code",
   "execution_count": 2,
   "metadata": {},
   "outputs": [],
   "source": [
    "se_df = pd.read_csv('https://grantmlong.com/data/streeteasy_rents_june2016.csv')"
   ]
  },
  {
   "cell_type": "code",
   "execution_count": 3,
   "metadata": {},
   "outputs": [
    {
     "data": {
      "text/html": [
       "<div>\n",
       "<style scoped>\n",
       "    .dataframe tbody tr th:only-of-type {\n",
       "        vertical-align: middle;\n",
       "    }\n",
       "\n",
       "    .dataframe tbody tr th {\n",
       "        vertical-align: top;\n",
       "    }\n",
       "\n",
       "    .dataframe thead th {\n",
       "        text-align: right;\n",
       "    }\n",
       "</style>\n",
       "<table border=\"1\" class=\"dataframe\">\n",
       "  <thead>\n",
       "    <tr style=\"text-align: right;\">\n",
       "      <th></th>\n",
       "      <th>rental_id</th>\n",
       "      <th>building_id</th>\n",
       "      <th>rent</th>\n",
       "      <th>bedrooms</th>\n",
       "      <th>bathrooms</th>\n",
       "      <th>size_sqft</th>\n",
       "      <th>min_to_subway</th>\n",
       "      <th>floor</th>\n",
       "      <th>building_age_yrs</th>\n",
       "      <th>no_fee</th>\n",
       "      <th>has_roofdeck</th>\n",
       "      <th>has_washer_dryer</th>\n",
       "      <th>has_doorman</th>\n",
       "      <th>has_elevator</th>\n",
       "      <th>has_dishwasher</th>\n",
       "      <th>has_patio</th>\n",
       "      <th>has_gym</th>\n",
       "      <th>neighborhood</th>\n",
       "      <th>submarket</th>\n",
       "      <th>borough</th>\n",
       "    </tr>\n",
       "  </thead>\n",
       "  <tbody>\n",
       "    <tr>\n",
       "      <th>0</th>\n",
       "      <td>1545</td>\n",
       "      <td>44518357</td>\n",
       "      <td>2550</td>\n",
       "      <td>0.0</td>\n",
       "      <td>1</td>\n",
       "      <td>480</td>\n",
       "      <td>9</td>\n",
       "      <td>2.0</td>\n",
       "      <td>17</td>\n",
       "      <td>1</td>\n",
       "      <td>1</td>\n",
       "      <td>0</td>\n",
       "      <td>0</td>\n",
       "      <td>1</td>\n",
       "      <td>1</td>\n",
       "      <td>0</td>\n",
       "      <td>1</td>\n",
       "      <td>Upper East Side</td>\n",
       "      <td>All Upper East Side</td>\n",
       "      <td>Manhattan</td>\n",
       "    </tr>\n",
       "    <tr>\n",
       "      <th>1</th>\n",
       "      <td>2472</td>\n",
       "      <td>94441623</td>\n",
       "      <td>11500</td>\n",
       "      <td>2.0</td>\n",
       "      <td>2</td>\n",
       "      <td>2000</td>\n",
       "      <td>4</td>\n",
       "      <td>1.0</td>\n",
       "      <td>96</td>\n",
       "      <td>0</td>\n",
       "      <td>0</td>\n",
       "      <td>0</td>\n",
       "      <td>0</td>\n",
       "      <td>0</td>\n",
       "      <td>0</td>\n",
       "      <td>0</td>\n",
       "      <td>0</td>\n",
       "      <td>Greenwich Village</td>\n",
       "      <td>All Downtown</td>\n",
       "      <td>Manhattan</td>\n",
       "    </tr>\n",
       "    <tr>\n",
       "      <th>2</th>\n",
       "      <td>10234</td>\n",
       "      <td>87632265</td>\n",
       "      <td>3000</td>\n",
       "      <td>3.0</td>\n",
       "      <td>1</td>\n",
       "      <td>1000</td>\n",
       "      <td>4</td>\n",
       "      <td>1.0</td>\n",
       "      <td>106</td>\n",
       "      <td>0</td>\n",
       "      <td>0</td>\n",
       "      <td>0</td>\n",
       "      <td>0</td>\n",
       "      <td>0</td>\n",
       "      <td>0</td>\n",
       "      <td>0</td>\n",
       "      <td>0</td>\n",
       "      <td>Astoria</td>\n",
       "      <td>Northwest Queens</td>\n",
       "      <td>Queens</td>\n",
       "    </tr>\n",
       "    <tr>\n",
       "      <th>3</th>\n",
       "      <td>2919</td>\n",
       "      <td>76909719</td>\n",
       "      <td>4500</td>\n",
       "      <td>1.0</td>\n",
       "      <td>1</td>\n",
       "      <td>916</td>\n",
       "      <td>2</td>\n",
       "      <td>51.0</td>\n",
       "      <td>29</td>\n",
       "      <td>0</td>\n",
       "      <td>1</td>\n",
       "      <td>0</td>\n",
       "      <td>1</td>\n",
       "      <td>1</td>\n",
       "      <td>1</td>\n",
       "      <td>0</td>\n",
       "      <td>0</td>\n",
       "      <td>Midtown</td>\n",
       "      <td>All Midtown</td>\n",
       "      <td>Manhattan</td>\n",
       "    </tr>\n",
       "    <tr>\n",
       "      <th>4</th>\n",
       "      <td>2790</td>\n",
       "      <td>92953520</td>\n",
       "      <td>4795</td>\n",
       "      <td>1.0</td>\n",
       "      <td>1</td>\n",
       "      <td>975</td>\n",
       "      <td>3</td>\n",
       "      <td>8.0</td>\n",
       "      <td>31</td>\n",
       "      <td>0</td>\n",
       "      <td>0</td>\n",
       "      <td>0</td>\n",
       "      <td>1</td>\n",
       "      <td>1</td>\n",
       "      <td>1</td>\n",
       "      <td>0</td>\n",
       "      <td>1</td>\n",
       "      <td>Greenwich Village</td>\n",
       "      <td>All Downtown</td>\n",
       "      <td>Manhattan</td>\n",
       "    </tr>\n",
       "    <tr>\n",
       "      <th>...</th>\n",
       "      <td>...</td>\n",
       "      <td>...</td>\n",
       "      <td>...</td>\n",
       "      <td>...</td>\n",
       "      <td>...</td>\n",
       "      <td>...</td>\n",
       "      <td>...</td>\n",
       "      <td>...</td>\n",
       "      <td>...</td>\n",
       "      <td>...</td>\n",
       "      <td>...</td>\n",
       "      <td>...</td>\n",
       "      <td>...</td>\n",
       "      <td>...</td>\n",
       "      <td>...</td>\n",
       "      <td>...</td>\n",
       "      <td>...</td>\n",
       "      <td>...</td>\n",
       "      <td>...</td>\n",
       "      <td>...</td>\n",
       "    </tr>\n",
       "    <tr>\n",
       "      <th>4995</th>\n",
       "      <td>1964</td>\n",
       "      <td>73060494</td>\n",
       "      <td>2650</td>\n",
       "      <td>1.0</td>\n",
       "      <td>1</td>\n",
       "      <td>686</td>\n",
       "      <td>9</td>\n",
       "      <td>4.0</td>\n",
       "      <td>3</td>\n",
       "      <td>1</td>\n",
       "      <td>0</td>\n",
       "      <td>0</td>\n",
       "      <td>0</td>\n",
       "      <td>0</td>\n",
       "      <td>0</td>\n",
       "      <td>0</td>\n",
       "      <td>0</td>\n",
       "      <td>Astoria</td>\n",
       "      <td>Northwest Queens</td>\n",
       "      <td>Queens</td>\n",
       "    </tr>\n",
       "    <tr>\n",
       "      <th>4996</th>\n",
       "      <td>5686</td>\n",
       "      <td>92994390</td>\n",
       "      <td>6675</td>\n",
       "      <td>2.0</td>\n",
       "      <td>2</td>\n",
       "      <td>988</td>\n",
       "      <td>5</td>\n",
       "      <td>10.0</td>\n",
       "      <td>9</td>\n",
       "      <td>1</td>\n",
       "      <td>1</td>\n",
       "      <td>1</td>\n",
       "      <td>1</td>\n",
       "      <td>1</td>\n",
       "      <td>1</td>\n",
       "      <td>0</td>\n",
       "      <td>1</td>\n",
       "      <td>Tribeca</td>\n",
       "      <td>All Downtown</td>\n",
       "      <td>Manhattan</td>\n",
       "    </tr>\n",
       "    <tr>\n",
       "      <th>4997</th>\n",
       "      <td>9679</td>\n",
       "      <td>7689663</td>\n",
       "      <td>1699</td>\n",
       "      <td>0.0</td>\n",
       "      <td>1</td>\n",
       "      <td>250</td>\n",
       "      <td>2</td>\n",
       "      <td>5.0</td>\n",
       "      <td>96</td>\n",
       "      <td>0</td>\n",
       "      <td>0</td>\n",
       "      <td>0</td>\n",
       "      <td>0</td>\n",
       "      <td>0</td>\n",
       "      <td>0</td>\n",
       "      <td>0</td>\n",
       "      <td>0</td>\n",
       "      <td>Little Italy</td>\n",
       "      <td>All Downtown</td>\n",
       "      <td>Manhattan</td>\n",
       "    </tr>\n",
       "    <tr>\n",
       "      <th>4998</th>\n",
       "      <td>5188</td>\n",
       "      <td>62828354</td>\n",
       "      <td>3475</td>\n",
       "      <td>1.0</td>\n",
       "      <td>1</td>\n",
       "      <td>651</td>\n",
       "      <td>6</td>\n",
       "      <td>5.0</td>\n",
       "      <td>14</td>\n",
       "      <td>1</td>\n",
       "      <td>0</td>\n",
       "      <td>1</td>\n",
       "      <td>1</td>\n",
       "      <td>1</td>\n",
       "      <td>1</td>\n",
       "      <td>0</td>\n",
       "      <td>1</td>\n",
       "      <td>Midtown West</td>\n",
       "      <td>All Midtown</td>\n",
       "      <td>Manhattan</td>\n",
       "    </tr>\n",
       "    <tr>\n",
       "      <th>4999</th>\n",
       "      <td>4718</td>\n",
       "      <td>67659586</td>\n",
       "      <td>4500</td>\n",
       "      <td>1.0</td>\n",
       "      <td>1</td>\n",
       "      <td>816</td>\n",
       "      <td>4</td>\n",
       "      <td>11.0</td>\n",
       "      <td>9</td>\n",
       "      <td>0</td>\n",
       "      <td>1</td>\n",
       "      <td>1</td>\n",
       "      <td>1</td>\n",
       "      <td>1</td>\n",
       "      <td>0</td>\n",
       "      <td>1</td>\n",
       "      <td>1</td>\n",
       "      <td>Tribeca</td>\n",
       "      <td>All Downtown</td>\n",
       "      <td>Manhattan</td>\n",
       "    </tr>\n",
       "  </tbody>\n",
       "</table>\n",
       "<p>5000 rows × 20 columns</p>\n",
       "</div>"
      ],
      "text/plain": [
       "      rental_id  building_id   rent  bedrooms  bathrooms  size_sqft  \\\n",
       "0          1545     44518357   2550       0.0          1        480   \n",
       "1          2472     94441623  11500       2.0          2       2000   \n",
       "2         10234     87632265   3000       3.0          1       1000   \n",
       "3          2919     76909719   4500       1.0          1        916   \n",
       "4          2790     92953520   4795       1.0          1        975   \n",
       "...         ...          ...    ...       ...        ...        ...   \n",
       "4995       1964     73060494   2650       1.0          1        686   \n",
       "4996       5686     92994390   6675       2.0          2        988   \n",
       "4997       9679      7689663   1699       0.0          1        250   \n",
       "4998       5188     62828354   3475       1.0          1        651   \n",
       "4999       4718     67659586   4500       1.0          1        816   \n",
       "\n",
       "      min_to_subway  floor  building_age_yrs  no_fee  has_roofdeck  \\\n",
       "0                 9    2.0                17       1             1   \n",
       "1                 4    1.0                96       0             0   \n",
       "2                 4    1.0               106       0             0   \n",
       "3                 2   51.0                29       0             1   \n",
       "4                 3    8.0                31       0             0   \n",
       "...             ...    ...               ...     ...           ...   \n",
       "4995              9    4.0                 3       1             0   \n",
       "4996              5   10.0                 9       1             1   \n",
       "4997              2    5.0                96       0             0   \n",
       "4998              6    5.0                14       1             0   \n",
       "4999              4   11.0                 9       0             1   \n",
       "\n",
       "      has_washer_dryer  has_doorman  has_elevator  has_dishwasher  has_patio  \\\n",
       "0                    0            0             1               1          0   \n",
       "1                    0            0             0               0          0   \n",
       "2                    0            0             0               0          0   \n",
       "3                    0            1             1               1          0   \n",
       "4                    0            1             1               1          0   \n",
       "...                ...          ...           ...             ...        ...   \n",
       "4995                 0            0             0               0          0   \n",
       "4996                 1            1             1               1          0   \n",
       "4997                 0            0             0               0          0   \n",
       "4998                 1            1             1               1          0   \n",
       "4999                 1            1             1               0          1   \n",
       "\n",
       "      has_gym       neighborhood            submarket    borough  \n",
       "0           1    Upper East Side  All Upper East Side  Manhattan  \n",
       "1           0  Greenwich Village         All Downtown  Manhattan  \n",
       "2           0            Astoria     Northwest Queens     Queens  \n",
       "3           0            Midtown          All Midtown  Manhattan  \n",
       "4           1  Greenwich Village         All Downtown  Manhattan  \n",
       "...       ...                ...                  ...        ...  \n",
       "4995        0            Astoria     Northwest Queens     Queens  \n",
       "4996        1            Tribeca         All Downtown  Manhattan  \n",
       "4997        0       Little Italy         All Downtown  Manhattan  \n",
       "4998        1       Midtown West          All Midtown  Manhattan  \n",
       "4999        1            Tribeca         All Downtown  Manhattan  \n",
       "\n",
       "[5000 rows x 20 columns]"
      ]
     },
     "execution_count": 3,
     "metadata": {},
     "output_type": "execute_result"
    }
   ],
   "source": [
    "se_df"
   ]
  },
  {
   "cell_type": "code",
   "execution_count": 4,
   "metadata": {},
   "outputs": [
    {
     "data": {
      "text/plain": [
       "rental_id           0\n",
       "building_id         0\n",
       "rent                0\n",
       "bedrooms            0\n",
       "bathrooms           0\n",
       "size_sqft           0\n",
       "min_to_subway       0\n",
       "floor               0\n",
       "building_age_yrs    0\n",
       "no_fee              0\n",
       "has_roofdeck        0\n",
       "has_washer_dryer    0\n",
       "has_doorman         0\n",
       "has_elevator        0\n",
       "has_dishwasher      0\n",
       "has_patio           0\n",
       "has_gym             0\n",
       "neighborhood        0\n",
       "submarket           0\n",
       "borough             0\n",
       "dtype: int64"
      ]
     },
     "execution_count": 4,
     "metadata": {},
     "output_type": "execute_result"
    }
   ],
   "source": [
    "se_df.isnull().sum()"
   ]
  },
  {
   "cell_type": "code",
   "execution_count": 5,
   "metadata": {},
   "outputs": [
    {
     "data": {
      "text/plain": [
       "Text(0.5, 0, 'rent')"
      ]
     },
     "execution_count": 5,
     "metadata": {},
     "output_type": "execute_result"
    },
    {
     "data": {
      "image/png": "[encoded data removed]",
      "text/plain": [
       "<Figure size 432x288 with 1 Axes>"
      ]
     },
     "metadata": {
      "needs_background": "light"
     },
     "output_type": "display_data"
    }
   ],
   "source": [
    "plt.hist(se_df['rent'], bins=20)\n",
    "plt.xlabel('rent')"
   ]
  },
  {
   "cell_type": "code",
   "execution_count": 6,
   "metadata": {},
   "outputs": [
    {
     "data": {
      "text/plain": [
       "Index(['rental_id', 'building_id', 'rent', 'bedrooms', 'bathrooms',\n",
       "       'size_sqft', 'min_to_subway', 'floor', 'building_age_yrs', 'no_fee',\n",
       "       'has_roofdeck', 'has_washer_dryer', 'has_doorman', 'has_elevator',\n",
       "       'has_dishwasher', 'has_patio', 'has_gym', 'neighborhood', 'submarket',\n",
       "       'borough'],\n",
       "      dtype='object')"
      ]
     },
     "execution_count": 6,
     "metadata": {},
     "output_type": "execute_result"
    }
   ],
   "source": [
    "se_df.columns"
   ]
  },
  {
   "cell_type": "code",
   "execution_count": 7,
   "metadata": {},
   "outputs": [
    {
     "data": {
      "text/plain": [
       "rental_id             int64\n",
       "building_id           int64\n",
       "rent                  int64\n",
       "bedrooms            float64\n",
       "bathrooms             int64\n",
       "size_sqft             int64\n",
       "min_to_subway         int64\n",
       "floor               float64\n",
       "building_age_yrs      int64\n",
       "no_fee                int64\n",
       "has_roofdeck          int64\n",
       "has_washer_dryer      int64\n",
       "has_doorman           int64\n",
       "has_elevator          int64\n",
       "has_dishwasher        int64\n",
       "has_patio             int64\n",
       "has_gym               int64\n",
       "neighborhood         object\n",
       "submarket            object\n",
       "borough              object\n",
       "dtype: object"
      ]
     },
     "execution_count": 7,
     "metadata": {},
     "output_type": "execute_result"
    }
   ],
   "source": [
    "se_df.dtypes"
   ]
  },
  {
   "cell_type": "code",
   "execution_count": 8,
   "metadata": {},
   "outputs": [
    {
     "name": "stdout",
     "output_type": "stream",
     "text": [
      "       bathrooms  bedrooms  building_age_yrs   building_id      floor  \\\n",
      "rent                                                                    \n",
      "1250    1.000000  0.000000         62.500000  7.160798e+07   2.500000   \n",
      "1275    1.000000  0.000000         56.000000  7.070025e+07   7.000000   \n",
      "1299    1.000000  0.000000         56.000000  5.566203e+06   6.500000   \n",
      "1300    1.000000  0.000000        104.000000  2.697084e+07   2.000000   \n",
      "1325    1.000000  0.000000         85.000000  3.849634e+07   3.000000   \n",
      "...          ...       ...               ...           ...        ...   \n",
      "18500   2.333333  2.333333         65.333333  5.070577e+07  12.333333   \n",
      "18900   5.000000  4.000000          8.000000  3.329932e+07   8.000000   \n",
      "19000   2.000000  2.000000          4.500000  5.844103e+07  18.500000   \n",
      "19950   2.666667  3.000000         32.666667  3.237394e+07  11.333333   \n",
      "20000   3.000000  3.125000         29.375000  5.407639e+07  31.000000   \n",
      "\n",
      "       has_dishwasher  has_doorman  has_elevator   has_gym  has_patio  \\\n",
      "rent                                                                    \n",
      "1250            0.000     0.000000      0.000000  0.000000        0.0   \n",
      "1275            0.000     0.000000      0.000000  0.000000        0.0   \n",
      "1299            0.000     0.000000      0.000000  0.000000        0.0   \n",
      "1300            0.000     0.000000      0.000000  0.000000        0.0   \n",
      "1325            0.000     0.000000      0.000000  0.000000        0.0   \n",
      "...               ...          ...           ...       ...        ...   \n",
      "18500           0.000     0.333333      0.333333  0.333333        0.0   \n",
      "18900           0.000     1.000000      1.000000  1.000000        0.0   \n",
      "19000           0.000     0.000000      0.000000  0.000000        0.5   \n",
      "19950           0.000     0.000000      0.333333  0.333333        0.0   \n",
      "20000           0.125     0.375000      0.500000  0.250000        0.0   \n",
      "\n",
      "       has_roofdeck  has_washer_dryer  min_to_subway    no_fee    rental_id  \\\n",
      "rent                                                                          \n",
      "1250       0.000000              0.00          2.500  0.000000  6796.500000   \n",
      "1275       0.000000              0.00          4.000  1.000000  6293.000000   \n",
      "1299       0.000000              0.00          4.000  0.000000  2921.500000   \n",
      "1300       0.000000              0.00          2.000  0.000000  7590.000000   \n",
      "1325       0.000000              0.00          1.000  0.000000  9435.000000   \n",
      "...             ...               ...            ...       ...          ...   \n",
      "18500      0.333333              0.00          3.000  0.333333  1444.666667   \n",
      "18900      0.000000              0.00         43.000  1.000000  5433.000000   \n",
      "19000      0.000000              0.50          5.000  0.000000  2039.500000   \n",
      "19950      0.000000              0.00          4.000  0.000000  4937.333333   \n",
      "20000      0.375000              0.25          3.125  0.000000  4926.000000   \n",
      "\n",
      "         size_sqft  \n",
      "rent                \n",
      "1250    402.500000  \n",
      "1275    490.000000  \n",
      "1299    340.000000  \n",
      "1300    275.000000  \n",
      "1325    300.000000  \n",
      "...            ...  \n",
      "18500  1933.333333  \n",
      "18900  2617.000000  \n",
      "19000  1584.500000  \n",
      "19950  2472.666667  \n",
      "20000  2486.125000  \n",
      "\n",
      "[1016 rows x 16 columns]\n"
     ]
    }
   ],
   "source": [
    "table=pd.pivot_table(data=se_df, index=se_df['rent'])\n",
    "print(table)"
   ]
  },
  {
   "cell_type": "code",
   "execution_count": 9,
   "metadata": {},
   "outputs": [
    {
     "data": {
      "text/html": [
       "<div>\n",
       "<style scoped>\n",
       "    .dataframe tbody tr th:only-of-type {\n",
       "        vertical-align: middle;\n",
       "    }\n",
       "\n",
       "    .dataframe tbody tr th {\n",
       "        vertical-align: top;\n",
       "    }\n",
       "\n",
       "    .dataframe thead th {\n",
       "        text-align: right;\n",
       "    }\n",
       "</style>\n",
       "<table border=\"1\" class=\"dataframe\">\n",
       "  <thead>\n",
       "    <tr style=\"text-align: right;\">\n",
       "      <th></th>\n",
       "      <th>rental_id</th>\n",
       "      <th>building_id</th>\n",
       "      <th>rent</th>\n",
       "      <th>bedrooms</th>\n",
       "      <th>bathrooms</th>\n",
       "      <th>size_sqft</th>\n",
       "      <th>min_to_subway</th>\n",
       "      <th>floor</th>\n",
       "      <th>building_age_yrs</th>\n",
       "      <th>no_fee</th>\n",
       "      <th>has_roofdeck</th>\n",
       "      <th>has_washer_dryer</th>\n",
       "      <th>has_doorman</th>\n",
       "      <th>has_elevator</th>\n",
       "      <th>has_dishwasher</th>\n",
       "      <th>has_patio</th>\n",
       "      <th>has_gym</th>\n",
       "    </tr>\n",
       "  </thead>\n",
       "  <tbody>\n",
       "    <tr>\n",
       "      <th>rental_id</th>\n",
       "      <td>1.000000</td>\n",
       "      <td>-0.005627</td>\n",
       "      <td>-0.142801</td>\n",
       "      <td>-0.035035</td>\n",
       "      <td>-0.106741</td>\n",
       "      <td>-0.080647</td>\n",
       "      <td>0.009344</td>\n",
       "      <td>-0.095590</td>\n",
       "      <td>0.047474</td>\n",
       "      <td>0.036605</td>\n",
       "      <td>-0.034081</td>\n",
       "      <td>-0.072351</td>\n",
       "      <td>-0.066153</td>\n",
       "      <td>-0.070506</td>\n",
       "      <td>-0.036664</td>\n",
       "      <td>-0.008090</td>\n",
       "      <td>-0.032547</td>\n",
       "    </tr>\n",
       "    <tr>\n",
       "      <th>building_id</th>\n",
       "      <td>-0.005627</td>\n",
       "      <td>1.000000</td>\n",
       "      <td>-0.001235</td>\n",
       "      <td>0.007502</td>\n",
       "      <td>-0.014055</td>\n",
       "      <td>-0.002570</td>\n",
       "      <td>-0.059641</td>\n",
       "      <td>0.015090</td>\n",
       "      <td>-0.036225</td>\n",
       "      <td>-0.019666</td>\n",
       "      <td>0.007928</td>\n",
       "      <td>0.000589</td>\n",
       "      <td>0.027252</td>\n",
       "      <td>0.018778</td>\n",
       "      <td>0.026607</td>\n",
       "      <td>-0.005895</td>\n",
       "      <td>0.016330</td>\n",
       "    </tr>\n",
       "    <tr>\n",
       "      <th>rent</th>\n",
       "      <td>-0.142801</td>\n",
       "      <td>-0.001235</td>\n",
       "      <td>1.000000</td>\n",
       "      <td>0.531200</td>\n",
       "      <td>0.733644</td>\n",
       "      <td>0.808784</td>\n",
       "      <td>0.003652</td>\n",
       "      <td>0.272351</td>\n",
       "      <td>-0.122302</td>\n",
       "      <td>-0.091769</td>\n",
       "      <td>0.081286</td>\n",
       "      <td>0.096136</td>\n",
       "      <td>0.099106</td>\n",
       "      <td>0.120822</td>\n",
       "      <td>0.096631</td>\n",
       "      <td>0.058260</td>\n",
       "      <td>0.093737</td>\n",
       "    </tr>\n",
       "    <tr>\n",
       "      <th>bedrooms</th>\n",
       "      <td>-0.035035</td>\n",
       "      <td>0.007502</td>\n",
       "      <td>0.531200</td>\n",
       "      <td>1.000000</td>\n",
       "      <td>0.647499</td>\n",
       "      <td>0.738410</td>\n",
       "      <td>0.053365</td>\n",
       "      <td>-0.006468</td>\n",
       "      <td>0.070329</td>\n",
       "      <td>-0.067047</td>\n",
       "      <td>-0.012395</td>\n",
       "      <td>-0.002582</td>\n",
       "      <td>-0.034031</td>\n",
       "      <td>-0.027457</td>\n",
       "      <td>-0.007094</td>\n",
       "      <td>0.003772</td>\n",
       "      <td>-0.018393</td>\n",
       "    </tr>\n",
       "    <tr>\n",
       "      <th>bathrooms</th>\n",
       "      <td>-0.106741</td>\n",
       "      <td>-0.014055</td>\n",
       "      <td>0.733644</td>\n",
       "      <td>0.647499</td>\n",
       "      <td>1.000000</td>\n",
       "      <td>0.770593</td>\n",
       "      <td>0.054891</td>\n",
       "      <td>0.145303</td>\n",
       "      <td>-0.103050</td>\n",
       "      <td>-0.052726</td>\n",
       "      <td>0.044597</td>\n",
       "      <td>0.052827</td>\n",
       "      <td>0.044997</td>\n",
       "      <td>0.051410</td>\n",
       "      <td>0.060295</td>\n",
       "      <td>0.057091</td>\n",
       "      <td>0.057221</td>\n",
       "    </tr>\n",
       "    <tr>\n",
       "      <th>size_sqft</th>\n",
       "      <td>-0.080647</td>\n",
       "      <td>-0.002570</td>\n",
       "      <td>0.808784</td>\n",
       "      <td>0.738410</td>\n",
       "      <td>0.770593</td>\n",
       "      <td>1.000000</td>\n",
       "      <td>0.024422</td>\n",
       "      <td>0.100234</td>\n",
       "      <td>0.026434</td>\n",
       "      <td>-0.129534</td>\n",
       "      <td>0.038302</td>\n",
       "      <td>0.052746</td>\n",
       "      <td>0.046402</td>\n",
       "      <td>0.060830</td>\n",
       "      <td>0.063051</td>\n",
       "      <td>0.036600</td>\n",
       "      <td>0.047815</td>\n",
       "    </tr>\n",
       "    <tr>\n",
       "      <th>min_to_subway</th>\n",
       "      <td>0.009344</td>\n",
       "      <td>-0.059641</td>\n",
       "      <td>0.003652</td>\n",
       "      <td>0.053365</td>\n",
       "      <td>0.054891</td>\n",
       "      <td>0.024422</td>\n",
       "      <td>1.000000</td>\n",
       "      <td>0.029242</td>\n",
       "      <td>-0.138273</td>\n",
       "      <td>0.054977</td>\n",
       "      <td>-0.021765</td>\n",
       "      <td>-0.017840</td>\n",
       "      <td>-0.006722</td>\n",
       "      <td>-0.014314</td>\n",
       "      <td>-0.022058</td>\n",
       "      <td>-0.005652</td>\n",
       "      <td>-0.014924</td>\n",
       "    </tr>\n",
       "    <tr>\n",
       "      <th>floor</th>\n",
       "      <td>-0.095590</td>\n",
       "      <td>0.015090</td>\n",
       "      <td>0.272351</td>\n",
       "      <td>-0.006468</td>\n",
       "      <td>0.145303</td>\n",
       "      <td>0.100234</td>\n",
       "      <td>0.029242</td>\n",
       "      <td>1.000000</td>\n",
       "      <td>-0.352757</td>\n",
       "      <td>0.088094</td>\n",
       "      <td>0.079554</td>\n",
       "      <td>0.060379</td>\n",
       "      <td>0.123108</td>\n",
       "      <td>0.109258</td>\n",
       "      <td>0.036979</td>\n",
       "      <td>0.068119</td>\n",
       "      <td>0.089361</td>\n",
       "    </tr>\n",
       "    <tr>\n",
       "      <th>building_age_yrs</th>\n",
       "      <td>0.047474</td>\n",
       "      <td>-0.036225</td>\n",
       "      <td>-0.122302</td>\n",
       "      <td>0.070329</td>\n",
       "      <td>-0.103050</td>\n",
       "      <td>0.026434</td>\n",
       "      <td>-0.138273</td>\n",
       "      <td>-0.352757</td>\n",
       "      <td>1.000000</td>\n",
       "      <td>-0.213815</td>\n",
       "      <td>-0.055064</td>\n",
       "      <td>-0.031511</td>\n",
       "      <td>-0.058163</td>\n",
       "      <td>-0.067261</td>\n",
       "      <td>-0.040078</td>\n",
       "      <td>-0.048155</td>\n",
       "      <td>-0.063687</td>\n",
       "    </tr>\n",
       "    <tr>\n",
       "      <th>no_fee</th>\n",
       "      <td>0.036605</td>\n",
       "      <td>-0.019666</td>\n",
       "      <td>-0.091769</td>\n",
       "      <td>-0.067047</td>\n",
       "      <td>-0.052726</td>\n",
       "      <td>-0.129534</td>\n",
       "      <td>0.054977</td>\n",
       "      <td>0.088094</td>\n",
       "      <td>-0.213815</td>\n",
       "      <td>1.000000</td>\n",
       "      <td>-0.089593</td>\n",
       "      <td>-0.082366</td>\n",
       "      <td>-0.175022</td>\n",
       "      <td>-0.155638</td>\n",
       "      <td>-0.086081</td>\n",
       "      <td>-0.052192</td>\n",
       "      <td>-0.105797</td>\n",
       "    </tr>\n",
       "    <tr>\n",
       "      <th>has_roofdeck</th>\n",
       "      <td>-0.034081</td>\n",
       "      <td>0.007928</td>\n",
       "      <td>0.081286</td>\n",
       "      <td>-0.012395</td>\n",
       "      <td>0.044597</td>\n",
       "      <td>0.038302</td>\n",
       "      <td>-0.021765</td>\n",
       "      <td>0.079554</td>\n",
       "      <td>-0.055064</td>\n",
       "      <td>-0.089593</td>\n",
       "      <td>1.000000</td>\n",
       "      <td>0.331626</td>\n",
       "      <td>0.506101</td>\n",
       "      <td>0.535333</td>\n",
       "      <td>0.369123</td>\n",
       "      <td>0.145139</td>\n",
       "      <td>0.579826</td>\n",
       "    </tr>\n",
       "    <tr>\n",
       "      <th>has_washer_dryer</th>\n",
       "      <td>-0.072351</td>\n",
       "      <td>0.000589</td>\n",
       "      <td>0.096136</td>\n",
       "      <td>-0.002582</td>\n",
       "      <td>0.052827</td>\n",
       "      <td>0.052746</td>\n",
       "      <td>-0.017840</td>\n",
       "      <td>0.060379</td>\n",
       "      <td>-0.031511</td>\n",
       "      <td>-0.082366</td>\n",
       "      <td>0.331626</td>\n",
       "      <td>1.000000</td>\n",
       "      <td>0.356328</td>\n",
       "      <td>0.410523</td>\n",
       "      <td>0.471480</td>\n",
       "      <td>0.159091</td>\n",
       "      <td>0.376372</td>\n",
       "    </tr>\n",
       "    <tr>\n",
       "      <th>has_doorman</th>\n",
       "      <td>-0.066153</td>\n",
       "      <td>0.027252</td>\n",
       "      <td>0.099106</td>\n",
       "      <td>-0.034031</td>\n",
       "      <td>0.044997</td>\n",
       "      <td>0.046402</td>\n",
       "      <td>-0.006722</td>\n",
       "      <td>0.123108</td>\n",
       "      <td>-0.058163</td>\n",
       "      <td>-0.175022</td>\n",
       "      <td>0.506101</td>\n",
       "      <td>0.356328</td>\n",
       "      <td>1.000000</td>\n",
       "      <td>0.728208</td>\n",
       "      <td>0.374312</td>\n",
       "      <td>0.157709</td>\n",
       "      <td>0.648138</td>\n",
       "    </tr>\n",
       "    <tr>\n",
       "      <th>has_elevator</th>\n",
       "      <td>-0.070506</td>\n",
       "      <td>0.018778</td>\n",
       "      <td>0.120822</td>\n",
       "      <td>-0.027457</td>\n",
       "      <td>0.051410</td>\n",
       "      <td>0.060830</td>\n",
       "      <td>-0.014314</td>\n",
       "      <td>0.109258</td>\n",
       "      <td>-0.067261</td>\n",
       "      <td>-0.155638</td>\n",
       "      <td>0.535333</td>\n",
       "      <td>0.410523</td>\n",
       "      <td>0.728208</td>\n",
       "      <td>1.000000</td>\n",
       "      <td>0.451245</td>\n",
       "      <td>0.151027</td>\n",
       "      <td>0.659879</td>\n",
       "    </tr>\n",
       "    <tr>\n",
       "      <th>has_dishwasher</th>\n",
       "      <td>-0.036664</td>\n",
       "      <td>0.026607</td>\n",
       "      <td>0.096631</td>\n",
       "      <td>-0.007094</td>\n",
       "      <td>0.060295</td>\n",
       "      <td>0.063051</td>\n",
       "      <td>-0.022058</td>\n",
       "      <td>0.036979</td>\n",
       "      <td>-0.040078</td>\n",
       "      <td>-0.086081</td>\n",
       "      <td>0.369123</td>\n",
       "      <td>0.471480</td>\n",
       "      <td>0.374312</td>\n",
       "      <td>0.451245</td>\n",
       "      <td>1.000000</td>\n",
       "      <td>0.154786</td>\n",
       "      <td>0.379161</td>\n",
       "    </tr>\n",
       "    <tr>\n",
       "      <th>has_patio</th>\n",
       "      <td>-0.008090</td>\n",
       "      <td>-0.005895</td>\n",
       "      <td>0.058260</td>\n",
       "      <td>0.003772</td>\n",
       "      <td>0.057091</td>\n",
       "      <td>0.036600</td>\n",
       "      <td>-0.005652</td>\n",
       "      <td>0.068119</td>\n",
       "      <td>-0.048155</td>\n",
       "      <td>-0.052192</td>\n",
       "      <td>0.145139</td>\n",
       "      <td>0.159091</td>\n",
       "      <td>0.157709</td>\n",
       "      <td>0.151027</td>\n",
       "      <td>0.154786</td>\n",
       "      <td>1.000000</td>\n",
       "      <td>0.150856</td>\n",
       "    </tr>\n",
       "    <tr>\n",
       "      <th>has_gym</th>\n",
       "      <td>-0.032547</td>\n",
       "      <td>0.016330</td>\n",
       "      <td>0.093737</td>\n",
       "      <td>-0.018393</td>\n",
       "      <td>0.057221</td>\n",
       "      <td>0.047815</td>\n",
       "      <td>-0.014924</td>\n",
       "      <td>0.089361</td>\n",
       "      <td>-0.063687</td>\n",
       "      <td>-0.105797</td>\n",
       "      <td>0.579826</td>\n",
       "      <td>0.376372</td>\n",
       "      <td>0.648138</td>\n",
       "      <td>0.659879</td>\n",
       "      <td>0.379161</td>\n",
       "      <td>0.150856</td>\n",
       "      <td>1.000000</td>\n",
       "    </tr>\n",
       "  </tbody>\n",
       "</table>\n",
       "</div>"
      ],
      "text/plain": [
       "                  rental_id  building_id      rent  bedrooms  bathrooms  \\\n",
       "rental_id          1.000000    -0.005627 -0.142801 -0.035035  -0.106741   \n",
       "building_id       -0.005627     1.000000 -0.001235  0.007502  -0.014055   \n",
       "rent              -0.142801    -0.001235  1.000000  0.531200   0.733644   \n",
       "bedrooms          -0.035035     0.007502  0.531200  1.000000   0.647499   \n",
       "bathrooms         -0.106741    -0.014055  0.733644  0.647499   1.000000   \n",
       "size_sqft         -0.080647    -0.002570  0.808784  0.738410   0.770593   \n",
       "min_to_subway      0.009344    -0.059641  0.003652  0.053365   0.054891   \n",
       "floor             -0.095590     0.015090  0.272351 -0.006468   0.145303   \n",
       "building_age_yrs   0.047474    -0.036225 -0.122302  0.070329  -0.103050   \n",
       "no_fee             0.036605    -0.019666 -0.091769 -0.067047  -0.052726   \n",
       "has_roofdeck      -0.034081     0.007928  0.081286 -0.012395   0.044597   \n",
       "has_washer_dryer  -0.072351     0.000589  0.096136 -0.002582   0.052827   \n",
       "has_doorman       -0.066153     0.027252  0.099106 -0.034031   0.044997   \n",
       "has_elevator      -0.070506     0.018778  0.120822 -0.027457   0.051410   \n",
       "has_dishwasher    -0.036664     0.026607  0.096631 -0.007094   0.060295   \n",
       "has_patio         -0.008090    -0.005895  0.058260  0.003772   0.057091   \n",
       "has_gym           -0.032547     0.016330  0.093737 -0.018393   0.057221   \n",
       "\n",
       "                  size_sqft  min_to_subway     floor  building_age_yrs  \\\n",
       "rental_id         -0.080647       0.009344 -0.095590          0.047474   \n",
       "building_id       -0.002570      -0.059641  0.015090         -0.036225   \n",
       "rent               0.808784       0.003652  0.272351         -0.122302   \n",
       "bedrooms           0.738410       0.053365 -0.006468          0.070329   \n",
       "bathrooms          0.770593       0.054891  0.145303         -0.103050   \n",
       "size_sqft          1.000000       0.024422  0.100234          0.026434   \n",
       "min_to_subway      0.024422       1.000000  0.029242         -0.138273   \n",
       "floor              0.100234       0.029242  1.000000         -0.352757   \n",
       "building_age_yrs   0.026434      -0.138273 -0.352757          1.000000   \n",
       "no_fee            -0.129534       0.054977  0.088094         -0.213815   \n",
       "has_roofdeck       0.038302      -0.021765  0.079554         -0.055064   \n",
       "has_washer_dryer   0.052746      -0.017840  0.060379         -0.031511   \n",
       "has_doorman        0.046402      -0.006722  0.123108         -0.058163   \n",
       "has_elevator       0.060830      -0.014314  0.109258         -0.067261   \n",
       "has_dishwasher     0.063051      -0.022058  0.036979         -0.040078   \n",
       "has_patio          0.036600      -0.005652  0.068119         -0.048155   \n",
       "has_gym            0.047815      -0.014924  0.089361         -0.063687   \n",
       "\n",
       "                    no_fee  has_roofdeck  has_washer_dryer  has_doorman  \\\n",
       "rental_id         0.036605     -0.034081         -0.072351    -0.066153   \n",
       "building_id      -0.019666      0.007928          0.000589     0.027252   \n",
       "rent             -0.091769      0.081286          0.096136     0.099106   \n",
       "bedrooms         -0.067047     -0.012395         -0.002582    -0.034031   \n",
       "bathrooms        -0.052726      0.044597          0.052827     0.044997   \n",
       "size_sqft        -0.129534      0.038302          0.052746     0.046402   \n",
       "min_to_subway     0.054977     -0.021765         -0.017840    -0.006722   \n",
       "floor             0.088094      0.079554          0.060379     0.123108   \n",
       "building_age_yrs -0.213815     -0.055064         -0.031511    -0.058163   \n",
       "no_fee            1.000000     -0.089593         -0.082366    -0.175022   \n",
       "has_roofdeck     -0.089593      1.000000          0.331626     0.506101   \n",
       "has_washer_dryer -0.082366      0.331626          1.000000     0.356328   \n",
       "has_doorman      -0.175022      0.506101          0.356328     1.000000   \n",
       "has_elevator     -0.155638      0.535333          0.410523     0.728208   \n",
       "has_dishwasher   -0.086081      0.369123          0.471480     0.374312   \n",
       "has_patio        -0.052192      0.145139          0.159091     0.157709   \n",
       "has_gym          -0.105797      0.579826          0.376372     0.648138   \n",
       "\n",
       "                  has_elevator  has_dishwasher  has_patio   has_gym  \n",
       "rental_id            -0.070506       -0.036664  -0.008090 -0.032547  \n",
       "building_id           0.018778        0.026607  -0.005895  0.016330  \n",
       "rent                  0.120822        0.096631   0.058260  0.093737  \n",
       "bedrooms             -0.027457       -0.007094   0.003772 -0.018393  \n",
       "bathrooms             0.051410        0.060295   0.057091  0.057221  \n",
       "size_sqft             0.060830        0.063051   0.036600  0.047815  \n",
       "min_to_subway        -0.014314       -0.022058  -0.005652 -0.014924  \n",
       "floor                 0.109258        0.036979   0.068119  0.089361  \n",
       "building_age_yrs     -0.067261       -0.040078  -0.048155 -0.063687  \n",
       "no_fee               -0.155638       -0.086081  -0.052192 -0.105797  \n",
       "has_roofdeck          0.535333        0.369123   0.145139  0.579826  \n",
       "has_washer_dryer      0.410523        0.471480   0.159091  0.376372  \n",
       "has_doorman           0.728208        0.374312   0.157709  0.648138  \n",
       "has_elevator          1.000000        0.451245   0.151027  0.659879  \n",
       "has_dishwasher        0.451245        1.000000   0.154786  0.379161  \n",
       "has_patio             0.151027        0.154786   1.000000  0.150856  \n",
       "has_gym               0.659879        0.379161   0.150856  1.000000  "
      ]
     },
     "execution_count": 9,
     "metadata": {},
     "output_type": "execute_result"
    }
   ],
   "source": [
    "se_df.corr()"
   ]
  },
  {
   "cell_type": "code",
   "execution_count": 10,
   "metadata": {},
   "outputs": [
    {
     "data": {
      "text/plain": [
       "(5000, 20)"
      ]
     },
     "execution_count": 10,
     "metadata": {},
     "output_type": "execute_result"
    }
   ],
   "source": [
    "se_df.shape"
   ]
  },
  {
   "cell_type": "code",
   "execution_count": 11,
   "metadata": {},
   "outputs": [
    {
     "data": {
      "text/plain": [
       "rental_id  rental_id         1.000000\n",
       "           building_id      -0.005627\n",
       "           rent             -0.142801\n",
       "           bedrooms         -0.035035\n",
       "           bathrooms        -0.106741\n",
       "                               ...   \n",
       "has_gym    has_doorman       0.648138\n",
       "           has_elevator      0.659879\n",
       "           has_dishwasher    0.379161\n",
       "           has_patio         0.150856\n",
       "           has_gym           1.000000\n",
       "Length: 289, dtype: float64"
      ]
     },
     "execution_count": 11,
     "metadata": {},
     "output_type": "execute_result"
    }
   ],
   "source": [
    "s=se_df.corr().unstack()\n",
    "s"
   ]
  },
  {
   "cell_type": "code",
   "execution_count": 12,
   "metadata": {},
   "outputs": [
    {
     "data": {
      "text/plain": [
       "size_sqft           0.808784\n",
       "bathrooms           0.733644\n",
       "bedrooms            0.531200\n",
       "floor               0.272351\n",
       "has_elevator        0.120822\n",
       "has_doorman         0.099106\n",
       "has_dishwasher      0.096631\n",
       "has_washer_dryer    0.096136\n",
       "has_gym             0.093737\n",
       "has_roofdeck        0.081286\n",
       "has_patio           0.058260\n",
       "min_to_subway       0.003652\n",
       "building_id        -0.001235\n",
       "no_fee             -0.091769\n",
       "building_age_yrs   -0.122302\n",
       "rental_id          -0.142801\n",
       "dtype: float64"
      ]
     },
     "execution_count": 12,
     "metadata": {},
     "output_type": "execute_result"
    }
   ],
   "source": [
    "ssort=s.sort_values(kind='quicksort', ascending = False)\n",
    "ssort['rent'][1:]"
   ]
  },
  {
   "cell_type": "code",
   "execution_count": 13,
   "metadata": {},
   "outputs": [
    {
     "data": {
      "text/html": [
       "<div>\n",
       "<style scoped>\n",
       "    .dataframe tbody tr th:only-of-type {\n",
       "        vertical-align: middle;\n",
       "    }\n",
       "\n",
       "    .dataframe tbody tr th {\n",
       "        vertical-align: top;\n",
       "    }\n",
       "\n",
       "    .dataframe thead th {\n",
       "        text-align: right;\n",
       "    }\n",
       "</style>\n",
       "<table border=\"1\" class=\"dataframe\">\n",
       "  <thead>\n",
       "    <tr style=\"text-align: right;\">\n",
       "      <th></th>\n",
       "      <th>rental_id</th>\n",
       "      <th>building_id</th>\n",
       "      <th>rent</th>\n",
       "      <th>bedrooms</th>\n",
       "      <th>bathrooms</th>\n",
       "      <th>size_sqft</th>\n",
       "      <th>min_to_subway</th>\n",
       "      <th>floor</th>\n",
       "      <th>building_age_yrs</th>\n",
       "      <th>no_fee</th>\n",
       "      <th>has_roofdeck</th>\n",
       "      <th>has_washer_dryer</th>\n",
       "      <th>has_doorman</th>\n",
       "      <th>has_elevator</th>\n",
       "      <th>has_dishwasher</th>\n",
       "      <th>has_patio</th>\n",
       "      <th>has_gym</th>\n",
       "      <th>neighborhood</th>\n",
       "      <th>submarket</th>\n",
       "      <th>borough</th>\n",
       "    </tr>\n",
       "  </thead>\n",
       "  <tbody>\n",
       "    <tr>\n",
       "      <th>count</th>\n",
       "      <td>5000.000000</td>\n",
       "      <td>5.000000e+03</td>\n",
       "      <td>5000.000000</td>\n",
       "      <td>5000.000000</td>\n",
       "      <td>5000.000000</td>\n",
       "      <td>5000.000000</td>\n",
       "      <td>5000.000000</td>\n",
       "      <td>5000.000000</td>\n",
       "      <td>5000.000000</td>\n",
       "      <td>5000.000000</td>\n",
       "      <td>5000.00000</td>\n",
       "      <td>5000.000000</td>\n",
       "      <td>5000.000000</td>\n",
       "      <td>5000.000000</td>\n",
       "      <td>5000.000000</td>\n",
       "      <td>5000.000000</td>\n",
       "      <td>5000.000000</td>\n",
       "      <td>5000</td>\n",
       "      <td>5000</td>\n",
       "      <td>5000</td>\n",
       "    </tr>\n",
       "    <tr>\n",
       "      <th>unique</th>\n",
       "      <td>NaN</td>\n",
       "      <td>NaN</td>\n",
       "      <td>NaN</td>\n",
       "      <td>NaN</td>\n",
       "      <td>NaN</td>\n",
       "      <td>NaN</td>\n",
       "      <td>NaN</td>\n",
       "      <td>NaN</td>\n",
       "      <td>NaN</td>\n",
       "      <td>NaN</td>\n",
       "      <td>NaN</td>\n",
       "      <td>NaN</td>\n",
       "      <td>NaN</td>\n",
       "      <td>NaN</td>\n",
       "      <td>NaN</td>\n",
       "      <td>NaN</td>\n",
       "      <td>NaN</td>\n",
       "      <td>93</td>\n",
       "      <td>15</td>\n",
       "      <td>3</td>\n",
       "    </tr>\n",
       "    <tr>\n",
       "      <th>top</th>\n",
       "      <td>NaN</td>\n",
       "      <td>NaN</td>\n",
       "      <td>NaN</td>\n",
       "      <td>NaN</td>\n",
       "      <td>NaN</td>\n",
       "      <td>NaN</td>\n",
       "      <td>NaN</td>\n",
       "      <td>NaN</td>\n",
       "      <td>NaN</td>\n",
       "      <td>NaN</td>\n",
       "      <td>NaN</td>\n",
       "      <td>NaN</td>\n",
       "      <td>NaN</td>\n",
       "      <td>NaN</td>\n",
       "      <td>NaN</td>\n",
       "      <td>NaN</td>\n",
       "      <td>NaN</td>\n",
       "      <td>Upper West Side</td>\n",
       "      <td>All Downtown</td>\n",
       "      <td>Manhattan</td>\n",
       "    </tr>\n",
       "    <tr>\n",
       "      <th>freq</th>\n",
       "      <td>NaN</td>\n",
       "      <td>NaN</td>\n",
       "      <td>NaN</td>\n",
       "      <td>NaN</td>\n",
       "      <td>NaN</td>\n",
       "      <td>NaN</td>\n",
       "      <td>NaN</td>\n",
       "      <td>NaN</td>\n",
       "      <td>NaN</td>\n",
       "      <td>NaN</td>\n",
       "      <td>NaN</td>\n",
       "      <td>NaN</td>\n",
       "      <td>NaN</td>\n",
       "      <td>NaN</td>\n",
       "      <td>NaN</td>\n",
       "      <td>NaN</td>\n",
       "      <td>NaN</td>\n",
       "      <td>579</td>\n",
       "      <td>1229</td>\n",
       "      <td>3539</td>\n",
       "    </tr>\n",
       "    <tr>\n",
       "      <th>mean</th>\n",
       "      <td>5526.909400</td>\n",
       "      <td>5.122007e+07</td>\n",
       "      <td>4536.920800</td>\n",
       "      <td>1.395700</td>\n",
       "      <td>1.321600</td>\n",
       "      <td>920.101400</td>\n",
       "      <td>5.079200</td>\n",
       "      <td>10.190200</td>\n",
       "      <td>52.093200</td>\n",
       "      <td>0.429600</td>\n",
       "      <td>0.12860</td>\n",
       "      <td>0.133800</td>\n",
       "      <td>0.228000</td>\n",
       "      <td>0.240000</td>\n",
       "      <td>0.155600</td>\n",
       "      <td>0.045600</td>\n",
       "      <td>0.143800</td>\n",
       "      <td>NaN</td>\n",
       "      <td>NaN</td>\n",
       "      <td>NaN</td>\n",
       "    </tr>\n",
       "    <tr>\n",
       "      <th>std</th>\n",
       "      <td>3263.692417</td>\n",
       "      <td>2.802283e+07</td>\n",
       "      <td>2929.838953</td>\n",
       "      <td>0.961018</td>\n",
       "      <td>0.565542</td>\n",
       "      <td>440.150464</td>\n",
       "      <td>5.268897</td>\n",
       "      <td>10.565361</td>\n",
       "      <td>40.224501</td>\n",
       "      <td>0.495069</td>\n",
       "      <td>0.33479</td>\n",
       "      <td>0.340471</td>\n",
       "      <td>0.419585</td>\n",
       "      <td>0.427126</td>\n",
       "      <td>0.362512</td>\n",
       "      <td>0.208637</td>\n",
       "      <td>0.350922</td>\n",
       "      <td>NaN</td>\n",
       "      <td>NaN</td>\n",
       "      <td>NaN</td>\n",
       "    </tr>\n",
       "    <tr>\n",
       "      <th>min</th>\n",
       "      <td>1.000000</td>\n",
       "      <td>7.107000e+03</td>\n",
       "      <td>1250.000000</td>\n",
       "      <td>0.000000</td>\n",
       "      <td>0.000000</td>\n",
       "      <td>250.000000</td>\n",
       "      <td>0.000000</td>\n",
       "      <td>0.000000</td>\n",
       "      <td>0.000000</td>\n",
       "      <td>0.000000</td>\n",
       "      <td>0.00000</td>\n",
       "      <td>0.000000</td>\n",
       "      <td>0.000000</td>\n",
       "      <td>0.000000</td>\n",
       "      <td>0.000000</td>\n",
       "      <td>0.000000</td>\n",
       "      <td>0.000000</td>\n",
       "      <td>NaN</td>\n",
       "      <td>NaN</td>\n",
       "      <td>NaN</td>\n",
       "    </tr>\n",
       "    <tr>\n",
       "      <th>25%</th>\n",
       "      <td>2699.750000</td>\n",
       "      <td>2.699811e+07</td>\n",
       "      <td>2750.000000</td>\n",
       "      <td>1.000000</td>\n",
       "      <td>1.000000</td>\n",
       "      <td>633.000000</td>\n",
       "      <td>2.000000</td>\n",
       "      <td>3.000000</td>\n",
       "      <td>12.000000</td>\n",
       "      <td>0.000000</td>\n",
       "      <td>0.00000</td>\n",
       "      <td>0.000000</td>\n",
       "      <td>0.000000</td>\n",
       "      <td>0.000000</td>\n",
       "      <td>0.000000</td>\n",
       "      <td>0.000000</td>\n",
       "      <td>0.000000</td>\n",
       "      <td>NaN</td>\n",
       "      <td>NaN</td>\n",
       "      <td>NaN</td>\n",
       "    </tr>\n",
       "    <tr>\n",
       "      <th>50%</th>\n",
       "      <td>5456.500000</td>\n",
       "      <td>5.069894e+07</td>\n",
       "      <td>3600.000000</td>\n",
       "      <td>1.000000</td>\n",
       "      <td>1.000000</td>\n",
       "      <td>800.000000</td>\n",
       "      <td>4.000000</td>\n",
       "      <td>6.000000</td>\n",
       "      <td>44.000000</td>\n",
       "      <td>0.000000</td>\n",
       "      <td>0.00000</td>\n",
       "      <td>0.000000</td>\n",
       "      <td>0.000000</td>\n",
       "      <td>0.000000</td>\n",
       "      <td>0.000000</td>\n",
       "      <td>0.000000</td>\n",
       "      <td>0.000000</td>\n",
       "      <td>NaN</td>\n",
       "      <td>NaN</td>\n",
       "      <td>NaN</td>\n",
       "    </tr>\n",
       "    <tr>\n",
       "      <th>75%</th>\n",
       "      <td>8306.000000</td>\n",
       "      <td>7.572064e+07</td>\n",
       "      <td>5200.000000</td>\n",
       "      <td>2.000000</td>\n",
       "      <td>2.000000</td>\n",
       "      <td>1094.000000</td>\n",
       "      <td>6.000000</td>\n",
       "      <td>14.000000</td>\n",
       "      <td>89.000000</td>\n",
       "      <td>1.000000</td>\n",
       "      <td>0.00000</td>\n",
       "      <td>0.000000</td>\n",
       "      <td>0.000000</td>\n",
       "      <td>0.000000</td>\n",
       "      <td>0.000000</td>\n",
       "      <td>0.000000</td>\n",
       "      <td>0.000000</td>\n",
       "      <td>NaN</td>\n",
       "      <td>NaN</td>\n",
       "      <td>NaN</td>\n",
       "    </tr>\n",
       "    <tr>\n",
       "      <th>max</th>\n",
       "      <td>11349.000000</td>\n",
       "      <td>9.998721e+07</td>\n",
       "      <td>20000.000000</td>\n",
       "      <td>5.000000</td>\n",
       "      <td>5.000000</td>\n",
       "      <td>4800.000000</td>\n",
       "      <td>51.000000</td>\n",
       "      <td>83.000000</td>\n",
       "      <td>180.000000</td>\n",
       "      <td>1.000000</td>\n",
       "      <td>1.00000</td>\n",
       "      <td>1.000000</td>\n",
       "      <td>1.000000</td>\n",
       "      <td>1.000000</td>\n",
       "      <td>1.000000</td>\n",
       "      <td>1.000000</td>\n",
       "      <td>1.000000</td>\n",
       "      <td>NaN</td>\n",
       "      <td>NaN</td>\n",
       "      <td>NaN</td>\n",
       "    </tr>\n",
       "  </tbody>\n",
       "</table>\n",
       "</div>"
      ],
      "text/plain": [
       "           rental_id   building_id          rent     bedrooms    bathrooms  \\\n",
       "count    5000.000000  5.000000e+03   5000.000000  5000.000000  5000.000000   \n",
       "unique           NaN           NaN           NaN          NaN          NaN   \n",
       "top              NaN           NaN           NaN          NaN          NaN   \n",
       "freq             NaN           NaN           NaN          NaN          NaN   \n",
       "mean     5526.909400  5.122007e+07   4536.920800     1.395700     1.321600   \n",
       "std      3263.692417  2.802283e+07   2929.838953     0.961018     0.565542   \n",
       "min         1.000000  7.107000e+03   1250.000000     0.000000     0.000000   \n",
       "25%      2699.750000  2.699811e+07   2750.000000     1.000000     1.000000   \n",
       "50%      5456.500000  5.069894e+07   3600.000000     1.000000     1.000000   \n",
       "75%      8306.000000  7.572064e+07   5200.000000     2.000000     2.000000   \n",
       "max     11349.000000  9.998721e+07  20000.000000     5.000000     5.000000   \n",
       "\n",
       "          size_sqft  min_to_subway        floor  building_age_yrs  \\\n",
       "count   5000.000000    5000.000000  5000.000000       5000.000000   \n",
       "unique          NaN            NaN          NaN               NaN   \n",
       "top             NaN            NaN          NaN               NaN   \n",
       "freq            NaN            NaN          NaN               NaN   \n",
       "mean     920.101400       5.079200    10.190200         52.093200   \n",
       "std      440.150464       5.268897    10.565361         40.224501   \n",
       "min      250.000000       0.000000     0.000000          0.000000   \n",
       "25%      633.000000       2.000000     3.000000         12.000000   \n",
       "50%      800.000000       4.000000     6.000000         44.000000   \n",
       "75%     1094.000000       6.000000    14.000000         89.000000   \n",
       "max     4800.000000      51.000000    83.000000        180.000000   \n",
       "\n",
       "             no_fee  has_roofdeck  has_washer_dryer  has_doorman  \\\n",
       "count   5000.000000    5000.00000       5000.000000  5000.000000   \n",
       "unique          NaN           NaN               NaN          NaN   \n",
       "top             NaN           NaN               NaN          NaN   \n",
       "freq            NaN           NaN               NaN          NaN   \n",
       "mean       0.429600       0.12860          0.133800     0.228000   \n",
       "std        0.495069       0.33479          0.340471     0.419585   \n",
       "min        0.000000       0.00000          0.000000     0.000000   \n",
       "25%        0.000000       0.00000          0.000000     0.000000   \n",
       "50%        0.000000       0.00000          0.000000     0.000000   \n",
       "75%        1.000000       0.00000          0.000000     0.000000   \n",
       "max        1.000000       1.00000          1.000000     1.000000   \n",
       "\n",
       "        has_elevator  has_dishwasher    has_patio      has_gym  \\\n",
       "count    5000.000000     5000.000000  5000.000000  5000.000000   \n",
       "unique           NaN             NaN          NaN          NaN   \n",
       "top              NaN             NaN          NaN          NaN   \n",
       "freq             NaN             NaN          NaN          NaN   \n",
       "mean        0.240000        0.155600     0.045600     0.143800   \n",
       "std         0.427126        0.362512     0.208637     0.350922   \n",
       "min         0.000000        0.000000     0.000000     0.000000   \n",
       "25%         0.000000        0.000000     0.000000     0.000000   \n",
       "50%         0.000000        0.000000     0.000000     0.000000   \n",
       "75%         0.000000        0.000000     0.000000     0.000000   \n",
       "max         1.000000        1.000000     1.000000     1.000000   \n",
       "\n",
       "           neighborhood     submarket    borough  \n",
       "count              5000          5000       5000  \n",
       "unique               93            15          3  \n",
       "top     Upper West Side  All Downtown  Manhattan  \n",
       "freq                579          1229       3539  \n",
       "mean                NaN           NaN        NaN  \n",
       "std                 NaN           NaN        NaN  \n",
       "min                 NaN           NaN        NaN  \n",
       "25%                 NaN           NaN        NaN  \n",
       "50%                 NaN           NaN        NaN  \n",
       "75%                 NaN           NaN        NaN  \n",
       "max                 NaN           NaN        NaN  "
      ]
     },
     "execution_count": 13,
     "metadata": {},
     "output_type": "execute_result"
    }
   ],
   "source": [
    "se_df.describe(include='all')"
   ]
  },
  {
   "cell_type": "code",
   "execution_count": 14,
   "metadata": {},
   "outputs": [
    {
     "data": {
      "text/plain": [
       "0.8087835060658339"
      ]
     },
     "execution_count": 14,
     "metadata": {},
     "output_type": "execute_result"
    }
   ],
   "source": [
    "se_df['rent'].corr(se_df['size_sqft'])"
   ]
  },
  {
   "cell_type": "code",
   "execution_count": 15,
   "metadata": {},
   "outputs": [
    {
     "data": {
      "image/png": "[encoded data removed]",
      "text/plain": [
       "<Figure size 432x288 with 1 Axes>"
      ]
     },
     "metadata": {
      "needs_background": "light"
     },
     "output_type": "display_data"
    }
   ],
   "source": [
    "plt.scatter(se_df.size_sqft,se_df.rent, color='r')\n",
    "plt.title('Area vs Rent')\n",
    "plt.xlabel('Area')\n",
    "plt.ylabel('Rent')\n",
    "plt.show()"
   ]
  },
  {
   "cell_type": "markdown",
   "metadata": {},
   "source": [
    "### Scatter diagram"
   ]
  },
  {
   "cell_type": "code",
   "execution_count": 16,
   "metadata": {},
   "outputs": [
    {
     "data": {
      "image/png": "[encoded data removed]",
      "text/plain": [
       "<Figure size 432x288 with 1 Axes>"
      ]
     },
     "metadata": {
      "needs_background": "light"
     },
     "output_type": "display_data"
    }
   ],
   "source": [
    "plt.scatter(se_df.bathrooms,se_df.rent, color='g')\n",
    "plt.title('No.of Bathrooms vs Rent')\n",
    "plt.xlabel('No.of Bathrooms')\n",
    "plt.ylabel('Rent')\n",
    "plt.show()"
   ]
  },
  {
   "cell_type": "code",
   "execution_count": 17,
   "metadata": {},
   "outputs": [
    {
     "data": {
      "image/png": "[encoded data removed]",
      "text/plain": [
       "<Figure size 432x288 with 1 Axes>"
      ]
     },
     "metadata": {
      "needs_background": "light"
     },
     "output_type": "display_data"
    }
   ],
   "source": [
    "plt.scatter(se_df.floor,se_df.rent, color='b')\n",
    "plt.title('Floor vs Rent')\n",
    "plt.xlabel('Floor')\n",
    "plt.ylabel('Rent')\n",
    "plt.show()"
   ]
  },
  {
   "cell_type": "code",
   "execution_count": 18,
   "metadata": {},
   "outputs": [
    {
     "name": "stdout",
     "output_type": "stream",
     "text": [
      "beta: 5.384, alpha: -416.6.\n",
      "\n"
     ]
    }
   ],
   "source": [
    "beta, alpha = np.polyfit(se_df.size_sqft, se_df.rent, 1)\n",
    "print('beta: %0.3f, alpha: %0.1f.'%(beta, alpha))\n",
    "print()"
   ]
  },
  {
   "cell_type": "code",
   "execution_count": 19,
   "metadata": {},
   "outputs": [
    {
     "name": "stdout",
     "output_type": "stream",
     "text": [
      "The slope is: 5.383625863188555\n",
      "The intercept is: -416.5608937960009\n"
     ]
    }
   ],
   "source": [
    "print('The slope is:',beta)\n",
    "print('The intercept is:',alpha)"
   ]
  },
  {
   "cell_type": "code",
   "execution_count": 20,
   "metadata": {},
   "outputs": [
    {
     "name": "stdout",
     "output_type": "stream",
     "text": [
      "The expected rent of house when area is 700 sqft: 3352\n"
     ]
    }
   ],
   "source": [
    "# rent when the area of the house is 700 sqft.\n",
    "y=beta*700+alpha\n",
    "print('The expected rent of house when area is 700 sqft:',int(round(y)))"
   ]
  },
  {
   "cell_type": "code",
   "execution_count": 21,
   "metadata": {},
   "outputs": [],
   "source": [
    "f_eqn = lambda x: beta*x + alpha\n",
    "rent_fit=f_eqn(se_df.size_sqft)"
   ]
  },
  {
   "cell_type": "markdown",
   "metadata": {},
   "source": [
    "### Fitting of the line"
   ]
  },
  {
   "cell_type": "code",
   "execution_count": 22,
   "metadata": {},
   "outputs": [
    {
     "data": {
      "image/png": "[encoded data removed]",
      "text/plain": [
       "<Figure size 432x288 with 1 Axes>"
      ]
     },
     "metadata": {
      "needs_background": "light"
     },
     "output_type": "display_data"
    }
   ],
   "source": [
    "plt.plot(se_df.size_sqft,rent_fit,color='r',alpha=1, label='fitted line')\n",
    "plt.scatter(se_df.size_sqft,se_df.rent,color='b',label='points')\n",
    "plt.xlabel('Area of room')\n",
    "plt.ylabel('Rent')\n",
    "plt.title('Fitting of rent with area')\n",
    "plt.legend()\n",
    "plt.show()"
   ]
  },
  {
   "cell_type": "code",
   "execution_count": 23,
   "metadata": {},
   "outputs": [
    {
     "data": {
      "text/plain": [
       "<seaborn.axisgrid.FacetGrid at 0x7f28c27f7e10>"
      ]
     },
     "execution_count": 23,
     "metadata": {},
     "output_type": "execute_result"
    },
    {
     "data": {
      "image/png": "[encoded data removed]",
      "text/plain": [
       "<Figure size 360x360 with 1 Axes>"
      ]
     },
     "metadata": {
      "needs_background": "light"
     },
     "output_type": "display_data"
    }
   ],
   "source": [
    "sns.lmplot(x='size_sqft',y='rent',data=se_df)"
   ]
  },
  {
   "cell_type": "code",
   "execution_count": 24,
   "metadata": {},
   "outputs": [],
   "source": [
    "se_df['rent_predicted']=se_df['rent']*beta+alpha\n",
    "se_df['rent_residual']=se_df['rent_predicted']-se_df['rent']"
   ]
  },
  {
   "cell_type": "code",
   "execution_count": 25,
   "metadata": {},
   "outputs": [
    {
     "data": {
      "text/plain": [
       "<matplotlib.axes._subplots.AxesSubplot at 0x7f28c05ba410>"
      ]
     },
     "execution_count": 25,
     "metadata": {},
     "output_type": "execute_result"
    },
    {
     "data": {
      "image/png": "[encoded data removed]",
      "text/plain": [
       "<Figure size 432x288 with 1 Axes>"
      ]
     },
     "metadata": {
      "needs_background": "light"
     },
     "output_type": "display_data"
    }
   ],
   "source": [
    "se_df['rent_residual'].hist(bins=20)"
   ]
  },
  {
   "cell_type": "markdown",
   "metadata": {},
   "source": [
    "# Using Statsmodel "
   ]
  },
  {
   "cell_type": "markdown",
   "metadata": {},
   "source": [
    "### Estimating unknown parameters"
   ]
  },
  {
   "cell_type": "code",
   "execution_count": 26,
   "metadata": {},
   "outputs": [
    {
     "name": "stdout",
     "output_type": "stream",
     "text": [
      "                            OLS Regression Results                            \n",
      "==============================================================================\n",
      "Dep. Variable:                   rent   R-squared:                       0.654\n",
      "Model:                            OLS   Adj. R-squared:                  0.654\n",
      "Method:                 Least Squares   F-statistic:                     9453.\n",
      "Date:                Thu, 24 Mar 2022   Prob (F-statistic):               0.00\n",
      "Time:                        14:49:43   Log-Likelihood:                -44353.\n",
      "No. Observations:                5000   AIC:                         8.871e+04\n",
      "Df Residuals:                    4998   BIC:                         8.872e+04\n",
      "Df Model:                           1                                         \n",
      "Covariance Type:            nonrobust                                         \n",
      "==============================================================================\n",
      "                 coef    std err          t      P>|t|      [0.025      0.975]\n",
      "------------------------------------------------------------------------------\n",
      "const       -416.5609     56.478     -7.376      0.000    -527.282    -305.840\n",
      "size_sqft      5.3836      0.055     97.224      0.000       5.275       5.492\n",
      "==============================================================================\n",
      "Omnibus:                      870.478   Durbin-Watson:                   2.006\n",
      "Prob(Omnibus):                  0.000   Jarque-Bera (JB):             7186.761\n",
      "Skew:                           0.594   Prob(JB):                         0.00\n",
      "Kurtosis:                       8.752   Cond. No.                     2.36e+03\n",
      "==============================================================================\n",
      "\n",
      "Warnings:\n",
      "[1] Standard Errors assume that the covariance matrix of the errors is correctly specified.\n",
      "[2] The condition number is large, 2.36e+03. This might indicate that there are\n",
      "strong multicollinearity or other numerical problems.\n"
     ]
    }
   ],
   "source": [
    "# add a constant to our existing dataframe for modeling purposes\n",
    "se_df=sm.add_constant(se_df)\n",
    "est = sm.OLS(se_df['rent'],se_df[['const','size_sqft']]).fit()\n",
    "print(est.summary())"
   ]
  },
  {
   "cell_type": "code",
   "execution_count": 27,
   "metadata": {
    "scrolled": true
   },
   "outputs": [
    {
     "name": "stdout",
     "output_type": "stream",
     "text": [
      "                            OLS Regression Results                            \n",
      "==============================================================================\n",
      "Dep. Variable:                   rent   R-squared:                       0.716\n",
      "Model:                            OLS   Adj. R-squared:                  0.716\n",
      "Method:                 Least Squares   F-statistic:                     3151.\n",
      "Date:                Thu, 24 Mar 2022   Prob (F-statistic):               0.00\n",
      "Time:                        14:49:44   Log-Likelihood:                -43859.\n",
      "No. Observations:                5000   AIC:                         8.773e+04\n",
      "Df Residuals:                    4995   BIC:                         8.776e+04\n",
      "Df Model:                           4                                         \n",
      "Covariance Type:            nonrobust                                         \n",
      "===============================================================================\n",
      "                  coef    std err          t      P>|t|      [0.025      0.975]\n",
      "-------------------------------------------------------------------------------\n",
      "const       -1362.8677     59.283    -22.989      0.000   -1479.089   -1246.647\n",
      "size_sqft       4.0150      0.079     50.975      0.000       3.861       4.169\n",
      "bathrooms    1254.2537     61.633     20.350      0.000    1133.427    1375.081\n",
      "floor          47.6704      2.128     22.400      0.000      43.498      51.843\n",
      "has_doorman   272.7467     53.074      5.139      0.000     168.699     376.794\n",
      "==============================================================================\n",
      "Omnibus:                     1234.155   Durbin-Watson:                   2.009\n",
      "Prob(Omnibus):                  0.000   Jarque-Bera (JB):             9467.982\n",
      "Skew:                           0.968   Prob(JB):                         0.00\n",
      "Kurtosis:                       9.458   Cond. No.                     3.31e+03\n",
      "==============================================================================\n",
      "\n",
      "Warnings:\n",
      "[1] Standard Errors assume that the covariance matrix of the errors is correctly specified.\n",
      "[2] The condition number is large, 3.31e+03. This might indicate that there are\n",
      "strong multicollinearity or other numerical problems.\n"
     ]
    }
   ],
   "source": [
    "est = sm.OLS(se_df['rent'],se_df[['const','size_sqft','bathrooms','floor','has_doorman']]).fit()\n",
    "print(est.summary())"
   ]
  },
  {
   "cell_type": "code",
   "execution_count": 28,
   "metadata": {},
   "outputs": [
    {
     "name": "stdout",
     "output_type": "stream",
     "text": [
      "                            OLS Regression Results                            \n",
      "==============================================================================\n",
      "Dep. Variable:                   rent   R-squared:                       0.734\n",
      "Model:                            OLS   Adj. R-squared:                  0.733\n",
      "Method:                 Least Squares   F-statistic:                     858.1\n",
      "Date:                Thu, 24 Mar 2022   Prob (F-statistic):               0.00\n",
      "Time:                        14:49:44   Log-Likelihood:                -43700.\n",
      "No. Observations:                5000   AIC:                         8.743e+04\n",
      "Df Residuals:                    4983   BIC:                         8.754e+04\n",
      "Df Model:                          16                                         \n",
      "Covariance Type:            nonrobust                                         \n",
      "====================================================================================\n",
      "                       coef    std err          t      P>|t|      [0.025      0.975]\n",
      "------------------------------------------------------------------------------------\n",
      "const             -777.1793    100.937     -7.700      0.000    -975.059    -579.299\n",
      "rental_id           -0.0396      0.007     -5.949      0.000      -0.053      -0.027\n",
      "building_id       -1.79e-07   7.68e-07     -0.233      0.816   -1.68e-06    1.33e-06\n",
      "bedrooms          -448.8758     34.356    -13.066      0.000    -516.228    -381.524\n",
      "bathrooms         1337.9998     62.256     21.492      0.000    1215.951    1460.048\n",
      "size_sqft            4.6522      0.089     52.028      0.000       4.477       4.828\n",
      "min_to_subway      -16.5954      4.129     -4.019      0.000     -24.690      -8.501\n",
      "floor               38.1177      2.218     17.185      0.000      33.769      42.466\n",
      "building_age_yrs    -4.2090      0.597     -7.047      0.000      -5.380      -3.038\n",
      "no_fee             -77.5812     45.713     -1.697      0.090    -167.198      12.036\n",
      "has_roofdeck        43.9167     82.388      0.533      0.594    -117.599     205.433\n",
      "has_washer_dryer   149.3765     74.678      2.000      0.046       2.974     295.779\n",
      "has_doorman        -46.5556     79.862     -0.583      0.560    -203.120     110.009\n",
      "has_elevator       224.5944     81.950      2.741      0.006      63.936     385.253\n",
      "has_dishwasher      40.3748     71.617      0.564      0.573    -100.025     180.775\n",
      "has_patio          -32.7547    105.289     -0.311      0.756    -239.167     173.657\n",
      "has_gym            -38.7492     91.102     -0.425      0.671    -217.350     139.852\n",
      "==============================================================================\n",
      "Omnibus:                     1211.341   Durbin-Watson:                   2.027\n",
      "Prob(Omnibus):                  0.000   Jarque-Bera (JB):             9773.154\n",
      "Skew:                           0.931   Prob(JB):                         0.00\n",
      "Kurtosis:                       9.591   Cond. No.                     2.91e+08\n",
      "==============================================================================\n",
      "\n",
      "Warnings:\n",
      "[1] Standard Errors assume that the covariance matrix of the errors is correctly specified.\n",
      "[2] The condition number is large, 2.91e+08. This might indicate that there are\n",
      "strong multicollinearity or other numerical problems.\n"
     ]
    }
   ],
   "source": [
    "est = sm.OLS(se_df['rent'],se_df.drop(['neighborhood','submarket','borough','rent','rent_predicted','rent_residual'],axis=1)).fit()\n",
    "print(est.summary())"
   ]
  },
  {
   "cell_type": "code",
   "execution_count": 29,
   "metadata": {},
   "outputs": [
    {
     "data": {
      "image/png": "[encoded data removed]",
      "text/plain": [
       "<Figure size 432x288 with 1 Axes>"
      ]
     },
     "metadata": {
      "needs_background": "light"
     },
     "output_type": "display_data"
    }
   ],
   "source": [
    "plt.hist(est.resid,bins=50)\n",
    "plt.show()"
   ]
  },
  {
   "cell_type": "code",
   "execution_count": 30,
   "metadata": {},
   "outputs": [
    {
     "data": {
      "text/plain": [
       "LinearRegression(copy_X=True, fit_intercept=True, n_jobs=None, normalize=False)"
      ]
     },
     "execution_count": 30,
     "metadata": {},
     "output_type": "execute_result"
    }
   ],
   "source": [
    "# This create a LinearRegression object\n",
    "lm = LinearRegression()\n",
    "lm"
   ]
  },
  {
   "cell_type": "code",
   "execution_count": 31,
   "metadata": {},
   "outputs": [],
   "source": [
    "# Look inside linear regression object\n",
    "# LinearRegression.<tab>"
   ]
  },
  {
   "cell_type": "code",
   "execution_count": 32,
   "metadata": {},
   "outputs": [],
   "source": [
    "# Look inside lm object\n",
    "# lm.<tab>"
   ]
  },
  {
   "cell_type": "code",
   "execution_count": 33,
   "metadata": {},
   "outputs": [
    {
     "data": {
      "text/plain": [
       "LinearRegression(copy_X=True, fit_intercept=True, n_jobs=None, normalize=False)"
      ]
     },
     "execution_count": 33,
     "metadata": {},
     "output_type": "execute_result"
    }
   ],
   "source": [
    "# Fitting of  independent variables with rent\n",
    "dependent_vars = ['bedrooms','bathrooms','min_to_subway','floor','building_age_yrs','no_fee','has_roofdeck','has_washer_dryer','has_doorman','has_elevator','has_dishwasher','has_patio','has_gym']\n",
    "X = se_df[dependent_vars]\n",
    "lm.fit(X, se_df.rent)"
   ]
  },
  {
   "cell_type": "code",
   "execution_count": 34,
   "metadata": {},
   "outputs": [
    {
     "name": "stdout",
     "output_type": "stream",
     "text": [
      "Estimated intercept coefficient: -515.5040360810199\n",
      "Number of coefficients: 13\n"
     ]
    }
   ],
   "source": [
    "print('Estimated intercept coefficient:', lm.intercept_)\n",
    "print('Number of coefficients:', len(lm.coef_))"
   ]
  },
  {
   "cell_type": "code",
   "execution_count": 35,
   "metadata": {},
   "outputs": [
    {
     "data": {
      "text/html": [
       "<div>\n",
       "<style scoped>\n",
       "    .dataframe tbody tr th:only-of-type {\n",
       "        vertical-align: middle;\n",
       "    }\n",
       "\n",
       "    .dataframe tbody tr th {\n",
       "        vertical-align: top;\n",
       "    }\n",
       "\n",
       "    .dataframe thead th {\n",
       "        text-align: right;\n",
       "    }\n",
       "</style>\n",
       "<table border=\"1\" class=\"dataframe\">\n",
       "  <thead>\n",
       "    <tr style=\"text-align: right;\">\n",
       "      <th></th>\n",
       "      <th>Est. coefficient</th>\n",
       "    </tr>\n",
       "  </thead>\n",
       "  <tbody>\n",
       "    <tr>\n",
       "      <th>bedrooms</th>\n",
       "      <td>417.730687</td>\n",
       "    </tr>\n",
       "    <tr>\n",
       "      <th>bathrooms</th>\n",
       "      <td>3171.816130</td>\n",
       "    </tr>\n",
       "    <tr>\n",
       "      <th>min_to_subway</th>\n",
       "      <td>-22.630204</td>\n",
       "    </tr>\n",
       "    <tr>\n",
       "      <th>floor</th>\n",
       "      <td>49.132507</td>\n",
       "    </tr>\n",
       "    <tr>\n",
       "      <th>building_age_yrs</th>\n",
       "      <td>-1.488370</td>\n",
       "    </tr>\n",
       "    <tr>\n",
       "      <th>no_fee</th>\n",
       "      <td>-344.120712</td>\n",
       "    </tr>\n",
       "    <tr>\n",
       "      <th>has_roofdeck</th>\n",
       "      <td>-4.475219</td>\n",
       "    </tr>\n",
       "    <tr>\n",
       "      <th>has_washer_dryer</th>\n",
       "      <td>191.475476</td>\n",
       "    </tr>\n",
       "    <tr>\n",
       "      <th>has_doorman</th>\n",
       "      <td>-41.004582</td>\n",
       "    </tr>\n",
       "    <tr>\n",
       "      <th>has_elevator</th>\n",
       "      <td>400.797299</td>\n",
       "    </tr>\n",
       "    <tr>\n",
       "      <th>has_dishwasher</th>\n",
       "      <td>147.357561</td>\n",
       "    </tr>\n",
       "    <tr>\n",
       "      <th>has_patio</th>\n",
       "      <td>-83.967351</td>\n",
       "    </tr>\n",
       "    <tr>\n",
       "      <th>has_gym</th>\n",
       "      <td>-96.097033</td>\n",
       "    </tr>\n",
       "  </tbody>\n",
       "</table>\n",
       "</div>"
      ],
      "text/plain": [
       "                  Est. coefficient\n",
       "bedrooms                417.730687\n",
       "bathrooms              3171.816130\n",
       "min_to_subway           -22.630204\n",
       "floor                    49.132507\n",
       "building_age_yrs         -1.488370\n",
       "no_fee                 -344.120712\n",
       "has_roofdeck             -4.475219\n",
       "has_washer_dryer        191.475476\n",
       "has_doorman             -41.004582\n",
       "has_elevator            400.797299\n",
       "has_dishwasher          147.357561\n",
       "has_patio               -83.967351\n",
       "has_gym                 -96.097033"
      ]
     },
     "execution_count": 35,
     "metadata": {},
     "output_type": "execute_result"
    }
   ],
   "source": [
    "pd.DataFrame(lm.coef_, index = dependent_vars, columns = ['Est. coefficient'])"
   ]
  },
  {
   "cell_type": "code",
   "execution_count": 36,
   "metadata": {},
   "outputs": [
    {
     "data": {
      "text/plain": [
       "array([2629.06488344, 6479.31777692, 3710.34863476, 5994.05257186,\n",
       "       3764.12600492])"
      ]
     },
     "execution_count": 36,
     "metadata": {},
     "output_type": "execute_result"
    }
   ],
   "source": [
    "# First five values of predicted rent\n",
    "lm.predict(X)[0:5]"
   ]
  },
  {
   "cell_type": "code",
   "execution_count": 37,
   "metadata": {},
   "outputs": [
    {
     "data": {
      "image/png": "[encoded data removed]",
      "text/plain": [
       "<Figure size 432x288 with 1 Axes>"
      ]
     },
     "metadata": {
      "needs_background": "light"
     },
     "output_type": "display_data"
    }
   ],
   "source": [
    "plt.hist(lm.predict(X))\n",
    "plt.title(\"Predicted rent (fitted values): $\\hat{Y}_i$\")\n",
    "plt.xlabel(\"Monthly rent\")\n",
    "plt.ylabel(\"frequency\")\n",
    "plt.show()"
   ]
  },
  {
   "cell_type": "code",
   "execution_count": 38,
   "metadata": {},
   "outputs": [
    {
     "data": {
      "text/plain": [
       "[<matplotlib.lines.Line2D at 0x7f28c031d590>]"
      ]
     },
     "execution_count": 38,
     "metadata": {},
     "output_type": "execute_result"
    },
    {
     "data": {
      "image/png": "[encoded data removed]",
      "text/plain": [
       "<Figure size 432x288 with 1 Axes>"
      ]
     },
     "metadata": {
      "needs_background": "light"
     },
     "output_type": "display_data"
    }
   ],
   "source": [
    "plt.scatter(se_df['rent'],lm.predict(X))\n",
    "plt.xlabel('Rents: $Y_i$')\n",
    "plt.ylabel('Predicted Rents: $\\hat{Y}_i$')\n",
    "plt.title('Rents vs Predicted Rents: $Y_i$ vs $\\hat{Y}_i$')\n",
    "plt.plot([0,20000],[0,20000], linewidth = 4, color = 'red')"
   ]
  },
  {
   "cell_type": "code",
   "execution_count": 39,
   "metadata": {},
   "outputs": [
    {
     "name": "stdout",
     "output_type": "stream",
     "text": [
      "17730479762.04\n"
     ]
    }
   ],
   "source": [
    "# sum of squares of rent residuals\n",
    "print('%0.2f' % np.sum((se_df['rent']-lm.predict(X))**2))"
   ]
  }
 ],
 "metadata": {
  "kernelspec": {
   "display_name": "Python 3",
   "language": "python",
   "name": "python3"
  },
  "language_info": {
   "codemirror_mode": {
    "name": "ipython",
    "version": 3
   },
   "file_extension": ".py",
   "mimetype": "text/x-python",
   "name": "python",
   "nbconvert_exporter": "python",
   "pygments_lexer": "ipython3",
   "version": "3.7.6"
  }
 },
 "nbformat": 4,
 "nbformat_minor": 4
}
